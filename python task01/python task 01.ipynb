{
 "cells": [
  {
   "cell_type": "code",
   "execution_count": 3,
   "metadata": {},
   "outputs": [
    {
     "name": "stdout",
     "output_type": "stream",
     "text": [
      "Enter Lower bound:- 1\n",
      "Enter Upper bound:- 5\n",
      "\n",
      "\tYou've only  2  chances to guess the integer!\n",
      "\n",
      "Guess a number:- 1\n",
      "You guessed too small!\n",
      "Guess a number:- 4\n",
      "You Guessed too high!\n",
      "Guess a number:- 2\n",
      "Congratulations you did it in  3  try\n",
      "\n",
      "The number is 2\n",
      "\tBetter Luck Next time!\n"
     ]
    }
   ],
   "source": [
    "import random\n",
    "import math\n",
    "# Taking Inputs\n",
    "lower = int(input(\"Enter Lower bound:- \"))\n",
    "\n",
    "# Taking Inputs\n",
    "upper = int(input(\"Enter Upper bound:- \"))\n",
    "\n",
    "# generating random number between\n",
    "# the lower and upper\n",
    "x = random.randint(lower, upper)\n",
    "print(\"\\n\\tYou've only \",\n",
    "\tround(math.log(upper - lower + 1, 2)),\n",
    "\t\" chances to guess the integer!\\n\")\n",
    "\n",
    "# Initializing the number of guesses.\n",
    "count = 0\n",
    "\n",
    "# for calculation of minimum number of\n",
    "# guesses depends upon range\n",
    "while count < math.log(upper - lower + 1, 2):\n",
    "\tcount += 1\n",
    "\n",
    "\t# taking guessing number as input\n",
    "\tguess = int(input(\"Guess a number:- \"))\n",
    "\n",
    "\t# Condition testing\n",
    "\tif x == guess:\n",
    "\t\tprint(\"Congratulations you did it in \",\n",
    "\t\t\tcount, \" try\")\n",
    "\t\t# Once guessed, loop will break\n",
    "\t\tbreak\n",
    "\telif x > guess:\n",
    "\t\tprint(\"You guessed too small!\")\n",
    "\telif x < guess:\n",
    "\t\tprint(\"You Guessed too high!\")\n",
    "\n",
    "# If Guessing is more than required guesses,\n",
    "# shows this output.\n",
    "if count >= math.log(upper - lower + 1, 2):\n",
    "\tprint(\"\\nThe number is %d\" % x)\n",
    "\tprint(\"\\tBetter Luck Next time!\")\n",
    "\n",
    "\n"
   ]
  },
  {
   "cell_type": "code",
   "execution_count": null,
   "metadata": {},
   "outputs": [],
   "source": []
  },
  {
   "cell_type": "code",
   "execution_count": null,
   "metadata": {},
   "outputs": [],
   "source": []
  }
 ],
 "metadata": {
  "kernelspec": {
   "display_name": "Python 3",
   "language": "python",
   "name": "python3"
  },
  "language_info": {
   "codemirror_mode": {
    "name": "ipython",
    "version": 3
   },
   "file_extension": ".py",
   "mimetype": "text/x-python",
   "name": "python",
   "nbconvert_exporter": "python",
   "pygments_lexer": "ipython3",
   "version": "3.8.5"
  }
 },
 "nbformat": 4,
 "nbformat_minor": 4
}
